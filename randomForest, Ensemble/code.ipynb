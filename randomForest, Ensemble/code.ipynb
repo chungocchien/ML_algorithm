{
 "cells": [
  {
   "cell_type": "code",
   "execution_count": 6,
   "outputs": [],
   "source": [
    "from sklearn.linear_model import LogisticRegression\n",
    "from sklearn.svm import SVC\n",
    "from sklearn.tree import DecisionTreeClassifier\n",
    "from sklearn.ensemble import VotingClassifier\n",
    "from sklearn.model_selection import RepeatedStratifiedKFold\n",
    "from sklearn.model_selection import cross_val_score\n",
    "from sklearn.metrics import accuracy_score\n",
    "from sklearn.datasets import load_iris\n",
    "from sklearn.datasets import make_blobs\n",
    "import numpy as np\n",
    "\n",
    "# Load the dataset\n",
    "iris = load_iris()\n",
    "X = iris.data\n",
    "y = iris.target == 1\n",
    "# Ensemble learning\n",
    "# Three model in ensemble learning\n",
    "log_clf = LogisticRegression()\n",
    "svm_clf = SVC()\n",
    "tree_clf = DecisionTreeClassifier(max_depth=3)\n",
    "\n",
    "voting_clf = VotingClassifier(\n",
    "  estimators=[('lr', log_clf), ('svc', svm_clf), ('tree_clf', tree_clf)],\n",
    "  voting='hard'\n",
    ")\n",
    "\n",
    "cv = RepeatedStratifiedKFold(n_splits=3, n_repeats=5, random_state=1)"
   ],
   "metadata": {
    "collapsed": false,
    "ExecuteTime": {
     "end_time": "2023-05-23T04:51:01.462642496Z",
     "start_time": "2023-05-23T04:51:01.406826653Z"
    }
   }
  },
  {
   "cell_type": "code",
   "execution_count": 7,
   "outputs": [
    {
     "name": "stdout",
     "output_type": "stream",
     "text": [
      "Logistic Regression Mean Accuracy: 0.713\n",
      "SVM Mean Mean Accuracy: 0.941\n",
      "DecisionTree Classifier Mean Accuracy: 0.943\n"
     ]
    }
   ],
   "source": [
    "# Đánh giá mô hình trên từng mô hình đơn lẻ\n",
    "scores = cross_val_score(log_clf, X, y, scoring='accuracy', cv=cv, n_jobs=-1)\n",
    "print('Logistic Regression Mean Accuracy: {:.03f}'.format(np.mean(scores)))\n",
    "scores = cross_val_score(svm_clf, X, y, scoring='accuracy', cv=cv, n_jobs=-1)\n",
    "print('SVM Mean Mean Accuracy: {:.03f}'.format(np.mean(scores)))\n",
    "scores = cross_val_score(tree_clf, X, y, scoring='accuracy', cv=cv, n_jobs=-1)\n",
    "print('DecisionTree Classifier Mean Accuracy: {:.03f}'.format(np.mean(scores)))"
   ],
   "metadata": {
    "collapsed": false,
    "ExecuteTime": {
     "end_time": "2023-05-23T04:51:03.724955090Z",
     "start_time": "2023-05-23T04:51:01.449129422Z"
    }
   }
  },
  {
   "cell_type": "code",
   "execution_count": 8,
   "outputs": [
    {
     "name": "stdout",
     "output_type": "stream",
     "text": [
      "Voting Classifier Mean Accuracy: 0.949\n"
     ]
    }
   ],
   "source": [
    "# Đánh giá mô hình trên mô hình kết hợp\n",
    "scores = cross_val_score(voting_clf, X, y, scoring='accuracy', cv=cv, n_jobs=-1)\n",
    "print('Voting Classifier Mean Accuracy: {:.03f}'.format(np.mean(scores)))"
   ],
   "metadata": {
    "collapsed": false,
    "ExecuteTime": {
     "end_time": "2023-05-23T04:51:03.868767450Z",
     "start_time": "2023-05-23T04:51:03.729324460Z"
    }
   }
  },
  {
   "cell_type": "code",
   "execution_count": 9,
   "outputs": [
    {
     "name": "stdout",
     "output_type": "stream",
     "text": [
      "Logistic Regression Mean Accuracy: 0.945\n"
     ]
    }
   ],
   "source": [
    "# Boostrapping\n",
    "from sklearn.ensemble import BaggingClassifier\n",
    "from sklearn.tree import DecisionTreeClassifier\n",
    "\n",
    "bag_clf = BaggingClassifier(\n",
    "  DecisionTreeClassifier(),\n",
    "  n_estimators=200,\n",
    "  max_samples=100,\n",
    "  bootstrap=True,\n",
    "  n_jobs=-1\n",
    ")\n",
    "\n",
    "bag_clf.fit(X, y)\n",
    "\n",
    "scores = cross_val_score(bag_clf, X, y, scoring='accuracy', cv=cv, n_jobs=-1)\n",
    "print('Logistic Regression Mean Accuracy: {:.03f}'.format(np.mean(scores)))"
   ],
   "metadata": {
    "collapsed": false,
    "ExecuteTime": {
     "end_time": "2023-05-23T04:51:06.184047723Z",
     "start_time": "2023-05-23T04:51:03.868165354Z"
    }
   }
  },
  {
   "cell_type": "code",
   "execution_count": 15,
   "outputs": [
    {
     "name": "stdout",
     "output_type": "stream",
     "text": [
      "RandomForest Accuracy: 0.956\n"
     ]
    }
   ],
   "source": [
    "# random forest\n",
    "from sklearn.ensemble import RandomForestClassifier\n",
    "from sklearn.metrics import accuracy_score\n",
    "from sklearn.model_selection import train_test_split\n",
    "\n",
    "# Huấn luyện mô hình trên tập train\n",
    "rdf_clf = RandomForestClassifier(\n",
    "    max_depth = 3,\n",
    "    max_leaf_nodes = 16,\n",
    "    min_samples_split = 10,\n",
    "    min_samples_leaf = 10\n",
    ")\n",
    "X_train, X_test, y_train, y_test = train_test_split(X, y, test_size=0.3, random_state=1)\n",
    "\n",
    "rdf_clf.fit(X_train, y_train)\n",
    "\n",
    "# Dự báo trên tập test\n",
    "y_pred = rdf_clf.predict(X_test)\n",
    "scores = accuracy_score(y_pred, y_test)\n",
    "print('RandomForest Accuracy: {:.03f}'.format(scores))"
   ],
   "metadata": {
    "collapsed": false,
    "ExecuteTime": {
     "end_time": "2023-05-23T04:56:48.438412943Z",
     "start_time": "2023-05-23T04:56:48.213333592Z"
    }
   }
  },
  {
   "cell_type": "code",
   "execution_count": null,
   "outputs": [],
   "source": [],
   "metadata": {
    "collapsed": false
   }
  }
 ],
 "metadata": {
  "kernelspec": {
   "display_name": "Python 3",
   "language": "python",
   "name": "python3"
  },
  "language_info": {
   "codemirror_mode": {
    "name": "ipython",
    "version": 2
   },
   "file_extension": ".py",
   "mimetype": "text/x-python",
   "name": "python",
   "nbconvert_exporter": "python",
   "pygments_lexer": "ipython2",
   "version": "2.7.6"
  }
 },
 "nbformat": 4,
 "nbformat_minor": 0
}
