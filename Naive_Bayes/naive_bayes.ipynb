{
 "cells": [
  {
   "cell_type": "code",
   "execution_count": 37,
   "metadata": {
    "collapsed": true
   },
   "outputs": [
    {
     "data": {
      "text/plain": "     Pregnancies  Glucose  BloodPressure  SkinThickness  Insulin   BMI  \\\n402            5      136             84             41       88  35.0   \n748            3      187             70             22      200  36.4   \n606            1      181             78             42      293  40.0   \n253            0       86             68             32        0  35.8   \n361            5      158             70              0        0  29.8   \n..           ...      ...            ...            ...      ...   ...   \n440            0      189            104             25        0  34.3   \n165            6      104             74             18      156  29.9   \n7             10      115              0              0        0  35.3   \n219            5      112             66              0        0  37.8   \n326            1      122             64             32      156  35.1   \n\n     DiabetesPedigreeFunction  Age  \n402                     0.286   35  \n748                     0.408   36  \n606                     1.258   22  \n253                     0.238   25  \n361                     0.207   63  \n..                        ...  ...  \n440                     0.435   41  \n165                     0.722   41  \n7                       0.134   29  \n219                     0.261   41  \n326                     0.692   30  \n\n[537 rows x 8 columns]",
      "text/html": "<div>\n<style scoped>\n    .dataframe tbody tr th:only-of-type {\n        vertical-align: middle;\n    }\n\n    .dataframe tbody tr th {\n        vertical-align: top;\n    }\n\n    .dataframe thead th {\n        text-align: right;\n    }\n</style>\n<table border=\"1\" class=\"dataframe\">\n  <thead>\n    <tr style=\"text-align: right;\">\n      <th></th>\n      <th>Pregnancies</th>\n      <th>Glucose</th>\n      <th>BloodPressure</th>\n      <th>SkinThickness</th>\n      <th>Insulin</th>\n      <th>BMI</th>\n      <th>DiabetesPedigreeFunction</th>\n      <th>Age</th>\n    </tr>\n  </thead>\n  <tbody>\n    <tr>\n      <th>402</th>\n      <td>5</td>\n      <td>136</td>\n      <td>84</td>\n      <td>41</td>\n      <td>88</td>\n      <td>35.0</td>\n      <td>0.286</td>\n      <td>35</td>\n    </tr>\n    <tr>\n      <th>748</th>\n      <td>3</td>\n      <td>187</td>\n      <td>70</td>\n      <td>22</td>\n      <td>200</td>\n      <td>36.4</td>\n      <td>0.408</td>\n      <td>36</td>\n    </tr>\n    <tr>\n      <th>606</th>\n      <td>1</td>\n      <td>181</td>\n      <td>78</td>\n      <td>42</td>\n      <td>293</td>\n      <td>40.0</td>\n      <td>1.258</td>\n      <td>22</td>\n    </tr>\n    <tr>\n      <th>253</th>\n      <td>0</td>\n      <td>86</td>\n      <td>68</td>\n      <td>32</td>\n      <td>0</td>\n      <td>35.8</td>\n      <td>0.238</td>\n      <td>25</td>\n    </tr>\n    <tr>\n      <th>361</th>\n      <td>5</td>\n      <td>158</td>\n      <td>70</td>\n      <td>0</td>\n      <td>0</td>\n      <td>29.8</td>\n      <td>0.207</td>\n      <td>63</td>\n    </tr>\n    <tr>\n      <th>...</th>\n      <td>...</td>\n      <td>...</td>\n      <td>...</td>\n      <td>...</td>\n      <td>...</td>\n      <td>...</td>\n      <td>...</td>\n      <td>...</td>\n    </tr>\n    <tr>\n      <th>440</th>\n      <td>0</td>\n      <td>189</td>\n      <td>104</td>\n      <td>25</td>\n      <td>0</td>\n      <td>34.3</td>\n      <td>0.435</td>\n      <td>41</td>\n    </tr>\n    <tr>\n      <th>165</th>\n      <td>6</td>\n      <td>104</td>\n      <td>74</td>\n      <td>18</td>\n      <td>156</td>\n      <td>29.9</td>\n      <td>0.722</td>\n      <td>41</td>\n    </tr>\n    <tr>\n      <th>7</th>\n      <td>10</td>\n      <td>115</td>\n      <td>0</td>\n      <td>0</td>\n      <td>0</td>\n      <td>35.3</td>\n      <td>0.134</td>\n      <td>29</td>\n    </tr>\n    <tr>\n      <th>219</th>\n      <td>5</td>\n      <td>112</td>\n      <td>66</td>\n      <td>0</td>\n      <td>0</td>\n      <td>37.8</td>\n      <td>0.261</td>\n      <td>41</td>\n    </tr>\n    <tr>\n      <th>326</th>\n      <td>1</td>\n      <td>122</td>\n      <td>64</td>\n      <td>32</td>\n      <td>156</td>\n      <td>35.1</td>\n      <td>0.692</td>\n      <td>30</td>\n    </tr>\n  </tbody>\n</table>\n<p>537 rows × 8 columns</p>\n</div>"
     },
     "execution_count": 37,
     "metadata": {},
     "output_type": "execute_result"
    }
   ],
   "source": [
    "from sklearn.model_selection import train_test_split\n",
    "from sklearn.datasets import load_iris\n",
    "import pandas as pd\n",
    "import numpy as np\n",
    "\n",
    "df = pd.read_csv(\"diabetes.csv\")\n",
    "X  = df[df.columns[:8]]\n",
    "y = df['Outcome']\n",
    "X_train, X_test, y_train, y_test = train_test_split(X, y, test_size=0.3, random_state=40)\n",
    "X_train"
   ]
  },
  {
   "cell_type": "code",
   "execution_count": 38,
   "outputs": [
    {
     "name": "stdout",
     "output_type": "stream",
     "text": [
      "Accuracy: 0.7359307359307359\n"
     ]
    }
   ],
   "source": [
    "from sklearn.naive_bayes import GaussianNB\n",
    "gnb = GaussianNB()\n",
    "gnb.fit(X_train, y_train)\n",
    "y_pred = gnb.predict(X_test)\n",
    "from sklearn.metrics import accuracy_score\n",
    "accuracy = accuracy_score(y_test, y_pred)\n",
    "print(\"Accuracy:\", accuracy)\n"
   ],
   "metadata": {
    "collapsed": false
   }
  },
  {
   "cell_type": "code",
   "execution_count": 1,
   "outputs": [
    {
     "name": "stdout",
     "output_type": "stream",
     "text": [
      "Predicting class of d5: B\n",
      "Predicting class of d6: N\n"
     ]
    }
   ],
   "source": [
    "from sklearn.naive_bayes import MultinomialNB\n",
    "import numpy as np\n",
    "\n",
    "# train data\n",
    "d1 = [2, 1, 1, 0, 0, 0, 0, 0, 0]\n",
    "d2 = [1, 1, 0, 1, 1, 0, 0, 0, 0]\n",
    "d3 = [0, 1, 0, 0, 1, 1, 0, 0, 0]\n",
    "d4 = [0, 1, 0, 0, 0, 0, 1, 1, 1]\n",
    "\n",
    "train_data = np.array([d1, d2, d3, d4])\n",
    "label = np.array(['B', 'B', 'B', 'N'])\n",
    "\n",
    "# test data\n",
    "d5 = np.array([[2, 0, 0, 1, 0, 0, 0, 1, 0]])\n",
    "d6 = np.array([[0, 1, 0, 0, 0, 0, 0, 1, 1]])\n",
    "\n",
    "## call MultinomialNB\n",
    "clf = MultinomialNB()\n",
    "# training\n",
    "clf.fit(train_data, label)\n",
    "\n",
    "# test\n",
    "print('Predicting class of d5:', str(clf.predict(d5)[0]))\n",
    "print('Predicting class of d6:', str(clf.predict(d6)[0]))\n"
   ],
   "metadata": {
    "collapsed": false
   }
  },
  {
   "cell_type": "code",
   "execution_count": null,
   "outputs": [],
   "source": [],
   "metadata": {
    "collapsed": false
   }
  }
 ],
 "metadata": {
  "kernelspec": {
   "display_name": "Python 3",
   "language": "python",
   "name": "python3"
  },
  "language_info": {
   "codemirror_mode": {
    "name": "ipython",
    "version": 2
   },
   "file_extension": ".py",
   "mimetype": "text/x-python",
   "name": "python",
   "nbconvert_exporter": "python",
   "pygments_lexer": "ipython2",
   "version": "2.7.6"
  }
 },
 "nbformat": 4,
 "nbformat_minor": 0
}
