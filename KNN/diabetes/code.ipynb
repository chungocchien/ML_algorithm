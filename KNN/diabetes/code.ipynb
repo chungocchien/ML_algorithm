{
 "cells": [
  {
   "cell_type": "code",
   "execution_count": 230,
   "metadata": {
    "collapsed": true
   },
   "outputs": [],
   "source": [
    "import pandas as pd\n",
    "import numpy as np\n",
    "from sklearn.neighbors import KNeighborsClassifier\n",
    "from sklearn.model_selection import train_test_split\n",
    "from sklearn.metrics import accuracy_score"
   ]
  },
  {
   "cell_type": "code",
   "execution_count": 231,
   "outputs": [
    {
     "data": {
      "text/plain": "     Pregnancies  Glucose  BloodPressure  SkinThickness  Insulin   BMI  \\\n244            2      146             76             35      194  38.2   \n335            0      165             76             43      255  47.9   \n211            0      147             85             54        0  42.8   \n322            0      124             70             20        0  27.4   \n286            5      155             84             44      545  38.7   \n..           ...      ...            ...            ...      ...   ...   \n345            8      126             88             36      108  38.5   \n443            8      108             70              0        0  30.5   \n700            2      122             76             27      200  35.9   \n228            4      197             70             39      744  36.7   \n220            0      177             60             29      478  34.6   \n\n     DiabetesPedigreeFunction  Age  Outcome  \n244                     0.329   29        0  \n335                     0.259   26        0  \n211                     0.375   24        0  \n322                     0.254   36        1  \n286                     0.619   34        0  \n..                        ...  ...      ...  \n345                     0.349   49        0  \n443                     0.955   33        1  \n700                     0.483   26        0  \n228                     2.329   31        0  \n220                     1.072   21        1  \n\n[116 rows x 9 columns]",
      "text/html": "<div>\n<style scoped>\n    .dataframe tbody tr th:only-of-type {\n        vertical-align: middle;\n    }\n\n    .dataframe tbody tr th {\n        vertical-align: top;\n    }\n\n    .dataframe thead th {\n        text-align: right;\n    }\n</style>\n<table border=\"1\" class=\"dataframe\">\n  <thead>\n    <tr style=\"text-align: right;\">\n      <th></th>\n      <th>Pregnancies</th>\n      <th>Glucose</th>\n      <th>BloodPressure</th>\n      <th>SkinThickness</th>\n      <th>Insulin</th>\n      <th>BMI</th>\n      <th>DiabetesPedigreeFunction</th>\n      <th>Age</th>\n      <th>Outcome</th>\n    </tr>\n  </thead>\n  <tbody>\n    <tr>\n      <th>244</th>\n      <td>2</td>\n      <td>146</td>\n      <td>76</td>\n      <td>35</td>\n      <td>194</td>\n      <td>38.2</td>\n      <td>0.329</td>\n      <td>29</td>\n      <td>0</td>\n    </tr>\n    <tr>\n      <th>335</th>\n      <td>0</td>\n      <td>165</td>\n      <td>76</td>\n      <td>43</td>\n      <td>255</td>\n      <td>47.9</td>\n      <td>0.259</td>\n      <td>26</td>\n      <td>0</td>\n    </tr>\n    <tr>\n      <th>211</th>\n      <td>0</td>\n      <td>147</td>\n      <td>85</td>\n      <td>54</td>\n      <td>0</td>\n      <td>42.8</td>\n      <td>0.375</td>\n      <td>24</td>\n      <td>0</td>\n    </tr>\n    <tr>\n      <th>322</th>\n      <td>0</td>\n      <td>124</td>\n      <td>70</td>\n      <td>20</td>\n      <td>0</td>\n      <td>27.4</td>\n      <td>0.254</td>\n      <td>36</td>\n      <td>1</td>\n    </tr>\n    <tr>\n      <th>286</th>\n      <td>5</td>\n      <td>155</td>\n      <td>84</td>\n      <td>44</td>\n      <td>545</td>\n      <td>38.7</td>\n      <td>0.619</td>\n      <td>34</td>\n      <td>0</td>\n    </tr>\n    <tr>\n      <th>...</th>\n      <td>...</td>\n      <td>...</td>\n      <td>...</td>\n      <td>...</td>\n      <td>...</td>\n      <td>...</td>\n      <td>...</td>\n      <td>...</td>\n      <td>...</td>\n    </tr>\n    <tr>\n      <th>345</th>\n      <td>8</td>\n      <td>126</td>\n      <td>88</td>\n      <td>36</td>\n      <td>108</td>\n      <td>38.5</td>\n      <td>0.349</td>\n      <td>49</td>\n      <td>0</td>\n    </tr>\n    <tr>\n      <th>443</th>\n      <td>8</td>\n      <td>108</td>\n      <td>70</td>\n      <td>0</td>\n      <td>0</td>\n      <td>30.5</td>\n      <td>0.955</td>\n      <td>33</td>\n      <td>1</td>\n    </tr>\n    <tr>\n      <th>700</th>\n      <td>2</td>\n      <td>122</td>\n      <td>76</td>\n      <td>27</td>\n      <td>200</td>\n      <td>35.9</td>\n      <td>0.483</td>\n      <td>26</td>\n      <td>0</td>\n    </tr>\n    <tr>\n      <th>228</th>\n      <td>4</td>\n      <td>197</td>\n      <td>70</td>\n      <td>39</td>\n      <td>744</td>\n      <td>36.7</td>\n      <td>2.329</td>\n      <td>31</td>\n      <td>0</td>\n    </tr>\n    <tr>\n      <th>220</th>\n      <td>0</td>\n      <td>177</td>\n      <td>60</td>\n      <td>29</td>\n      <td>478</td>\n      <td>34.6</td>\n      <td>1.072</td>\n      <td>21</td>\n      <td>1</td>\n    </tr>\n  </tbody>\n</table>\n<p>116 rows × 9 columns</p>\n</div>"
     },
     "execution_count": 231,
     "metadata": {},
     "output_type": "execute_result"
    }
   ],
   "source": [
    "df = pd.read_csv('diabetes.csv')\n",
    "train, test = train_test_split(df, test_size=0.15)\n",
    "my_test = test[test.columns[0:8]]\n",
    "test"
   ],
   "metadata": {
    "collapsed": false
   }
  },
  {
   "cell_type": "code",
   "execution_count": 232,
   "outputs": [
    {
     "name": "stdout",
     "output_type": "stream",
     "text": [
      "[0 1 1 0 1 1 0 0 0 0 0 0 1 1 0 1 0 1 0 1 1 0 1 0 0 0 0 0 1 1 0 1 0 1 0 1 1\n",
      " 0 0 1 0 0 0 0 0 0 0 0 0 0 0 0 0 0 1 0 0 1 1 0 1 0 0 1 0 0 0 0 0 0 0 0 0 0\n",
      " 0 1 0 0 0 0 0 0 0 0 0 1 0 0 0 0 1 0 0 0 1 0 0 1 0 0 0 1 0 1 0 0 1 0 1 1 0\n",
      " 0 0 1 1 1]\n",
      "0.7155172413793104\n"
     ]
    }
   ],
   "source": [
    "neigh = KNeighborsClassifier(n_neighbors=3)\n",
    "neigh.fit(train[train.columns[:-1]], train[train.columns[-1]])\n",
    "pred = neigh.predict(my_test)\n",
    "print(pred)\n",
    "print(accuracy_score(test[test.columns[-1]], pred))\n",
    "#sau nhiều lần thử random bộ test, kết quả dao động xung quanh 0.7"
   ],
   "metadata": {
    "collapsed": false
   }
  }
 ],
 "metadata": {
  "kernelspec": {
   "display_name": "Python 3",
   "language": "python",
   "name": "python3"
  },
  "language_info": {
   "codemirror_mode": {
    "name": "ipython",
    "version": 2
   },
   "file_extension": ".py",
   "mimetype": "text/x-python",
   "name": "python",
   "nbconvert_exporter": "python",
   "pygments_lexer": "ipython2",
   "version": "2.7.6"
  }
 },
 "nbformat": 4,
 "nbformat_minor": 0
}
