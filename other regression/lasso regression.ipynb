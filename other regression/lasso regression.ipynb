{
 "cells": [
  {
   "cell_type": "code",
   "execution_count": 6,
   "metadata": {
    "collapsed": true,
    "ExecuteTime": {
     "start_time": "2023-04-24T11:33:06.098194Z",
     "end_time": "2023-04-24T11:33:06.139653Z"
    }
   },
   "outputs": [
    {
     "name": "stderr",
     "output_type": "stream",
     "text": [
      "/home/chien/anaconda3/lib/python3.10/site-packages/sklearn/utils/deprecation.py:87: FutureWarning: Function load_boston is deprecated; `load_boston` is deprecated in 1.0 and will be removed in 1.2.\n",
      "\n",
      "    The Boston housing prices dataset has an ethical problem. You can refer to\n",
      "    the documentation of this function for further details.\n",
      "\n",
      "    The scikit-learn maintainers therefore strongly discourage the use of this\n",
      "    dataset unless the purpose of the code is to study and educate about\n",
      "    ethical issues in data science and machine learning.\n",
      "\n",
      "    In this special case, you can fetch the dataset from the original\n",
      "    source::\n",
      "\n",
      "        import pandas as pd\n",
      "        import numpy as np\n",
      "\n",
      "        data_url = \"http://lib.stat.cmu.edu/datasets/boston\"\n",
      "        raw_df = pd.read_csv(data_url, sep=\"\\s+\", skiprows=22, header=None)\n",
      "        data = np.hstack([raw_df.values[::2, :], raw_df.values[1::2, :2]])\n",
      "        target = raw_df.values[1::2, 2]\n",
      "\n",
      "    Alternative datasets include the California housing dataset (i.e.\n",
      "    :func:`~sklearn.datasets.fetch_california_housing`) and the Ames housing\n",
      "    dataset. You can load the datasets as follows::\n",
      "\n",
      "        from sklearn.datasets import fetch_california_housing\n",
      "        housing = fetch_california_housing()\n",
      "\n",
      "    for the California housing dataset and::\n",
      "\n",
      "        from sklearn.datasets import fetch_openml\n",
      "        housing = fetch_openml(name=\"house_prices\", as_frame=True)\n",
      "\n",
      "    for the Ames housing dataset.\n",
      "  warnings.warn(msg, category=FutureWarning)\n"
     ]
    }
   ],
   "source": [
    "from sklearn.linear_model import Lasso\n",
    "from sklearn.datasets import load_boston\n",
    "from sklearn.model_selection import train_test_split, GridSearchCV\n",
    "from sklearn.metrics import mean_squared_error\n",
    "\n",
    "# Load dữ liệu Boston Housing\n",
    "boston = load_boston()\n",
    "X = boston.data\n",
    "y = boston.target"
   ]
  },
  {
   "cell_type": "code",
   "execution_count": 8,
   "outputs": [
    {
     "name": "stdout",
     "output_type": "stream",
     "text": [
      "[24.92862589 22.8510586  28.09005421 12.34823514 20.2231635  20.40660486\n",
      " 19.93850085 22.25998162 19.22682703 19.37847273  5.07158155 14.55158087\n",
      " 18.01261097  5.62401993 38.64635346 32.35295685 21.02709306 36.24159321\n",
      " 31.08286579 23.53066655 25.08395609 23.84875646 20.12646034 30.02777015\n",
      " 22.23488872  9.10661575 18.09350451 21.36631937 34.72833849 20.15074364\n",
      " 17.30554159 18.7536357  19.61521682 23.15060113 28.42245256 20.09985466\n",
      " 11.17748682 23.69084958 15.93561069 13.78820924 25.38284591 20.6095448\n",
      " 22.26547971 14.1421071  23.70890799 24.72020671 18.7965474  25.41542432\n",
      " 12.90982286 24.17228972 23.43087773 18.41050282 24.00652025 31.0040005\n",
      " 13.59367955 22.01878306 20.82054759 15.73270652 12.54969015 20.49015864\n",
      " 18.83172242 22.06312333 32.46898199 31.34162654 16.98909191 32.00933915\n",
      " 19.29883057 19.46464312 17.35511335 23.03589895 21.20819493 22.8631279\n",
      " 30.38887108 29.77135748 24.37555905  5.34356968 36.43809237 23.60679584\n",
      " 27.0093178  19.87868654 28.09647915 19.41889494 18.49827326 37.19505416\n",
      " 38.52868159 24.58277182 24.00955497 14.57825776 29.49141698 17.21684598\n",
      " 15.85110028 13.81274658 24.88939861 30.57968006 23.00249873 20.54160156\n",
      " -0.22914251 26.15229304 16.02988483 18.02188239 25.33927853 21.87239799]\n",
      "MSE:  35.825059502975385\n"
     ]
    }
   ],
   "source": [
    "X_train, X_test, y_train, y_test = train_test_split(X, y, test_size=0.2, random_state=0)\n",
    "lasso = Lasso(alpha=0.05)\n",
    "lasso.fit(X_train, y_train)\n",
    "y_pred = lasso.predict(X_test)\n",
    "print(y_pred)\n",
    "mse = mean_squared_error(y_test, y_pred)\n",
    "print(\"MSE: \", mse)"
   ],
   "metadata": {
    "collapsed": false,
    "ExecuteTime": {
     "start_time": "2023-04-24T11:34:46.095140Z",
     "end_time": "2023-04-24T11:34:46.139820Z"
    }
   }
  },
  {
   "cell_type": "code",
   "execution_count": 7,
   "outputs": [],
   "source": [],
   "metadata": {
    "collapsed": false,
    "ExecuteTime": {
     "start_time": "2023-04-24T11:33:06.139316Z",
     "end_time": "2023-04-24T11:33:06.139989Z"
    }
   }
  }
 ],
 "metadata": {
  "kernelspec": {
   "display_name": "Python 3",
   "language": "python",
   "name": "python3"
  },
  "language_info": {
   "codemirror_mode": {
    "name": "ipython",
    "version": 2
   },
   "file_extension": ".py",
   "mimetype": "text/x-python",
   "name": "python",
   "nbconvert_exporter": "python",
   "pygments_lexer": "ipython2",
   "version": "2.7.6"
  }
 },
 "nbformat": 4,
 "nbformat_minor": 0
}
