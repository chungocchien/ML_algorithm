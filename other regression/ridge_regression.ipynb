{
 "cells": [
  {
   "cell_type": "code",
   "execution_count": 23,
   "metadata": {
    "collapsed": true,
    "ExecuteTime": {
     "start_time": "2023-04-24T11:36:10.927656Z",
     "end_time": "2023-04-24T11:36:10.971439Z"
    }
   },
   "outputs": [
    {
     "name": "stderr",
     "output_type": "stream",
     "text": [
      "/home/chien/anaconda3/lib/python3.10/site-packages/sklearn/utils/deprecation.py:87: FutureWarning: Function load_boston is deprecated; `load_boston` is deprecated in 1.0 and will be removed in 1.2.\n",
      "\n",
      "    The Boston housing prices dataset has an ethical problem. You can refer to\n",
      "    the documentation of this function for further details.\n",
      "\n",
      "    The scikit-learn maintainers therefore strongly discourage the use of this\n",
      "    dataset unless the purpose of the code is to study and educate about\n",
      "    ethical issues in data science and machine learning.\n",
      "\n",
      "    In this special case, you can fetch the dataset from the original\n",
      "    source::\n",
      "\n",
      "        import pandas as pd\n",
      "        import numpy as np\n",
      "\n",
      "        data_url = \"http://lib.stat.cmu.edu/datasets/boston\"\n",
      "        raw_df = pd.read_csv(data_url, sep=\"\\s+\", skiprows=22, header=None)\n",
      "        data = np.hstack([raw_df.values[::2, :], raw_df.values[1::2, :2]])\n",
      "        target = raw_df.values[1::2, 2]\n",
      "\n",
      "    Alternative datasets include the California housing dataset (i.e.\n",
      "    :func:`~sklearn.datasets.fetch_california_housing`) and the Ames housing\n",
      "    dataset. You can load the datasets as follows::\n",
      "\n",
      "        from sklearn.datasets import fetch_california_housing\n",
      "        housing = fetch_california_housing()\n",
      "\n",
      "    for the California housing dataset and::\n",
      "\n",
      "        from sklearn.datasets import fetch_openml\n",
      "        housing = fetch_openml(name=\"house_prices\", as_frame=True)\n",
      "\n",
      "    for the Ames housing dataset.\n",
      "  warnings.warn(msg, category=FutureWarning)\n"
     ]
    }
   ],
   "source": [
    "from sklearn.linear_model import Ridge\n",
    "from sklearn.datasets import load_boston\n",
    "from sklearn.model_selection import train_test_split, GridSearchCV\n",
    "from sklearn.metrics import mean_squared_error\n",
    "\n",
    "# Load dữ liệu Boston Housing\n",
    "boston = load_boston()\n",
    "X = boston.data\n",
    "y = boston.target"
   ]
  },
  {
   "cell_type": "code",
   "execution_count": 24,
   "outputs": [
    {
     "name": "stdout",
     "output_type": "stream",
     "text": [
      "[24.91972235 23.42612183 29.1251709  12.15811994 21.05574009 19.59974001\n",
      " 20.30771741 21.60657644 18.97639334 19.7597276   5.07834235 15.83854753\n",
      " 17.35817517  5.57251875 39.75433013 32.45685439 21.99935878 36.66260675\n",
      " 30.93912932 23.25239715 24.85315579 24.37120522 20.45264712 30.25002296\n",
      " 22.33683924  9.80555494 17.75837759 19.18590883 35.31004726 20.70790055\n",
      " 17.98451859 18.06678791 19.8059433  23.74997557 28.88137073 19.70037385\n",
      " 11.16221565 24.46568469 17.08281105 14.97518103 25.9289265  20.77259992\n",
      " 22.30352458 15.12465306 23.21829527 25.00098578 19.66630681 23.83943307\n",
      " 10.89560622 24.25358151 21.88230708 17.69807735 24.34287998 30.2940041\n",
      " 13.44932634 21.80447272 20.78042508 15.54124727 13.49620515 21.82903299\n",
      " 18.03457367 21.72000106 32.77644411 31.18585684 17.4872385  32.53885686\n",
      " 18.89078555 19.66231458 18.53004286 22.93364482 22.40479569 23.65694339\n",
      " 30.6106406  29.12023216 25.41299725  5.26148752 36.65300105 23.70605218\n",
      " 27.18725442 19.46388767 28.44489743 19.23770297 18.7873277  37.65122517\n",
      " 39.03893994 23.9642684  24.64302714 15.48399576 27.098695   16.84564914\n",
      " 15.8380492  13.34173382 24.72873068 31.02653448 22.39165723 20.30782791\n",
      "  0.3247069  25.62838019 15.71997999 17.91564589 25.31268874 22.21578667]\n",
      "MSE:  33.902745172431665\n"
     ]
    }
   ],
   "source": [
    "# chọn tham số alpha là 0.5\n",
    "X_train, X_test, y_train, y_test = train_test_split(X, y, test_size=0.2, random_state=0)\n",
    "ridge = Ridge(alpha=0.5)\n",
    "ridge.fit(X_train, y_train)\n",
    "y_pred1 = ridge.predict(X_test)\n",
    "print(y_pred1)\n",
    "mse1 = mean_squared_error(y_test, y_pred1)\n",
    "print(\"MSE: \", mse1)"
   ],
   "metadata": {
    "collapsed": false,
    "ExecuteTime": {
     "start_time": "2023-04-24T11:36:10.971268Z",
     "end_time": "2023-04-24T11:36:10.971730Z"
    }
   }
  },
  {
   "cell_type": "code",
   "execution_count": 25,
   "outputs": [
    {
     "name": "stdout",
     "output_type": "stream",
     "text": [
      "Best alpha: 0.01\n",
      "[24.89053491 23.71284403 29.35841668 12.12328511 21.43274521 19.29241136\n",
      " 20.4909994  21.3679261  18.89881264 19.92324153  5.12561993 16.37113085\n",
      " 17.08578785  5.59300828 39.9898523  32.49543614 22.44482144 36.84651141\n",
      " 30.86612453 23.15419794 24.77716852 24.6631364  20.59134562 30.3506737\n",
      " 22.41694599 10.22000766 17.65127537 18.30015102 35.52738803 20.95359967\n",
      " 18.29496772 17.80041116 19.96098153 24.05228207 29.0956536  19.2900952\n",
      " 11.15560949 24.572666   17.57186826 15.47972494 26.1978169  20.86042095\n",
      " 22.31429898 15.59316743 23.00981531 25.1675249  20.10171435 22.9296692\n",
      " 10.06248727 24.28429068 20.96851712 17.36249023 24.51711523 29.96149676\n",
      " 13.42757424 21.72891773 20.78937892 15.49796036 13.9755246  22.17395384\n",
      " 17.73912976 21.59242525 32.90155422 31.11441285 17.72543719 32.75710487\n",
      " 18.7176129  19.78339315 19.01538917 22.89922801 22.94451703 24.01501548\n",
      " 30.72511609 28.83970154 25.88563469  5.23331443 36.72001534 23.77075883\n",
      " 27.26620253 19.29969994 28.61791422 19.18149745 18.96639868 37.8191782\n",
      " 39.2151563  23.71978946 24.92248624 15.87390942 26.12697376 16.69268765\n",
      " 15.83525707 13.11455494 24.71610622 31.24517836 22.17276312 20.25246305\n",
      "  0.58254237 25.44742604 15.57606317 17.93646623 25.3060888  22.36874031]\n",
      "MSE: 33.459000941697866\n"
     ]
    }
   ],
   "source": [
    "# chọn tham số alpha tốt nhất từ 1 bộ tham số đầu vào\n",
    "# Chia dữ liệu thành tập train và tập test\n",
    "X_train, X_test, y_train, y_test = train_test_split(X, y, test_size=0.2, random_state=0)\n",
    "\n",
    "# Tạo danh sách các giá trị alpha cần tìm kiếm\n",
    "alphas = [0.01, 0.1, 1, 10, 100]\n",
    "\n",
    "# Tạo một đối tượng GridSearchCV để tìm kiếm giá trị alpha tốt nhất\n",
    "ridge = Ridge()\n",
    "grid = GridSearchCV(estimator=ridge, param_grid=dict(alpha=alphas), cv=10, scoring='neg_mean_squared_error')\n",
    "grid.fit(X_train, y_train)\n",
    "\n",
    "# In ra giá trị alpha tốt nhất và RMSE trên tập test\n",
    "print(\"Best alpha:\", grid.best_params_['alpha'])\n",
    "y_pred = grid.predict(X_test)\n",
    "print(y_pred)\n",
    "mse = mean_squared_error(y_test, y_pred)\n",
    "print(\"MSE:\", mse)\n"
   ],
   "metadata": {
    "collapsed": false,
    "ExecuteTime": {
     "start_time": "2023-04-24T11:36:10.971372Z",
     "end_time": "2023-04-24T11:36:10.984026Z"
    }
   }
  },
  {
   "cell_type": "code",
   "execution_count": 25,
   "outputs": [],
   "source": [],
   "metadata": {
    "collapsed": false,
    "ExecuteTime": {
     "start_time": "2023-04-24T11:36:10.985939Z",
     "end_time": "2023-04-24T11:36:11.041537Z"
    }
   }
  }
 ],
 "metadata": {
  "kernelspec": {
   "display_name": "Python 3",
   "language": "python",
   "name": "python3"
  },
  "language_info": {
   "codemirror_mode": {
    "name": "ipython",
    "version": 2
   },
   "file_extension": ".py",
   "mimetype": "text/x-python",
   "name": "python",
   "nbconvert_exporter": "python",
   "pygments_lexer": "ipython2",
   "version": "2.7.6"
  }
 },
 "nbformat": 4,
 "nbformat_minor": 0
}
