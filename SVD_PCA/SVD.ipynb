{
 "cells": [
  {
   "cell_type": "code",
   "execution_count": 1,
   "metadata": {
    "collapsed": true,
    "ExecuteTime": {
     "start_time": "2023-04-25T10:36:33.387080Z",
     "end_time": "2023-04-25T10:36:33.392332Z"
    }
   },
   "outputs": [
    {
     "name": "stdout",
     "output_type": "stream",
     "text": [
      "Frobenius norm of (UU^T - I) = 3.142229833723572e-16\n",
      "\n",
      " S =  [1.39530381 0.10406506] \n",
      "\n",
      "Frobenius norm of (VV^T - I) = 5.414429769833038e-16\n"
     ]
    }
   ],
   "source": [
    "# calculate SVD\n",
    "import numpy as np\n",
    "from numpy import linalg as LA\n",
    "\n",
    "m, n = 2, 3\n",
    "A = np.random.rand(m, n)\n",
    "\n",
    "U, S, V = LA.svd(A)\n",
    "\n",
    "# checking if U, V are orthogonal and S is a diagonal matrix with\n",
    "# nonnegative decreasing elements\n",
    "print('Frobenius norm of (UU^T - I) =', \\\n",
    "    LA.norm(U.dot(U.T) - np.eye(m)))\n",
    "print('\\n S = ', S, '\\n')\n",
    "print ('Frobenius norm of (VV^T - I) =', \\\n",
    "    LA.norm(V.dot(V.T) - np.eye(n)))\n"
   ]
  },
  {
   "cell_type": "code",
   "execution_count": null,
   "outputs": [],
   "source": [],
   "metadata": {
    "collapsed": false
   }
  }
 ],
 "metadata": {
  "kernelspec": {
   "display_name": "Python 3",
   "language": "python",
   "name": "python3"
  },
  "language_info": {
   "codemirror_mode": {
    "name": "ipython",
    "version": 2
   },
   "file_extension": ".py",
   "mimetype": "text/x-python",
   "name": "python",
   "nbconvert_exporter": "python",
   "pygments_lexer": "ipython2",
   "version": "2.7.6"
  }
 },
 "nbformat": 4,
 "nbformat_minor": 0
}
